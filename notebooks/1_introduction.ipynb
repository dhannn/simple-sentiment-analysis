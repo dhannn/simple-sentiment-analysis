{
 "cells": [
  {
   "cell_type": "markdown",
   "id": "26436459",
   "metadata": {
    "tags": []
   },
   "source": [
    "# Sentiment Analysis\n",
    "Sentiment analysis is a machine learning technique that analyzes the tone or emotion of a text—positive, negative, or neutral. It is the process of computationally identifying and categorizing the opinions, attitudes, and feelings towards individuals, events, and topics expressed in a piece of text.\n",
    "\n",
    "Sentiment analysis has a wide range of applications. it is important for programmers and software developers to study effective techniques for this process."
   ]
  },
  {
   "cell_type": "markdown",
   "id": "54b33710",
   "metadata": {},
   "source": [
    "# Objectives"
   ]
  },
  {
   "cell_type": "code",
   "execution_count": 2,
   "id": "b13a628c",
   "metadata": {},
   "outputs": [
    {
     "name": "stdout",
     "output_type": "stream",
     "text": [
      "Requirement already satisfied: scikit-learn in c:\\users\\dannr\\appdata\\local\\programs\\python\\python310\\lib\\site-packages (1.2.2)\n",
      "Requirement already satisfied: numpy>=1.17.3 in c:\\users\\dannr\\appdata\\local\\programs\\python\\python310\\lib\\site-packages (from scikit-learn) (1.23.3)\n",
      "Requirement already satisfied: threadpoolctl>=2.0.0 in c:\\users\\dannr\\appdata\\local\\programs\\python\\python310\\lib\\site-packages (from scikit-learn) (3.1.0)\n",
      "Requirement already satisfied: joblib>=1.1.1 in c:\\users\\dannr\\appdata\\local\\programs\\python\\python310\\lib\\site-packages (from scikit-learn) (1.2.0)\n",
      "Requirement already satisfied: scipy>=1.3.2 in c:\\users\\dannr\\appdata\\local\\programs\\python\\python310\\lib\\site-packages (from scikit-learn) (1.10.1)\n"
     ]
    }
   ],
   "source": [
    "import sys\n",
    "!{sys.executable} -m pip install scikit-learn"
   ]
  },
  {
   "attachments": {},
   "cell_type": "markdown",
   "id": "6ca6993c",
   "metadata": {},
   "source": [
    "# The Dataset\n",
    "The dataset consists of 16 million tweets with six fields: target (or polarity), id, date, flag, user and text. Among the fields, the target and the text are the most relevant. The target consists of the polarity while the text contains our features.\n",
    "\n",
    "We convert the raw data to a `Dataframe` object with the target and the text fields."
   ]
  },
  {
   "cell_type": "code",
   "execution_count": 3,
   "id": "5415cf6a",
   "metadata": {},
   "outputs": [
    {
     "data": {
      "text/html": [
       "<div>\n",
       "<style scoped>\n",
       "    .dataframe tbody tr th:only-of-type {\n",
       "        vertical-align: middle;\n",
       "    }\n",
       "\n",
       "    .dataframe tbody tr th {\n",
       "        vertical-align: top;\n",
       "    }\n",
       "\n",
       "    .dataframe thead th {\n",
       "        text-align: right;\n",
       "    }\n",
       "</style>\n",
       "<table border=\"1\" class=\"dataframe\">\n",
       "  <thead>\n",
       "    <tr style=\"text-align: right;\">\n",
       "      <th></th>\n",
       "      <th>target</th>\n",
       "      <th>text</th>\n",
       "    </tr>\n",
       "  </thead>\n",
       "  <tbody>\n",
       "    <tr>\n",
       "      <th>0</th>\n",
       "      <td>0</td>\n",
       "      <td>@switchfoot http://twitpic.com/2y1zl - Awww, t...</td>\n",
       "    </tr>\n",
       "    <tr>\n",
       "      <th>1</th>\n",
       "      <td>0</td>\n",
       "      <td>is upset that he can't update his Facebook by ...</td>\n",
       "    </tr>\n",
       "    <tr>\n",
       "      <th>2</th>\n",
       "      <td>0</td>\n",
       "      <td>@Kenichan I dived many times for the ball. Man...</td>\n",
       "    </tr>\n",
       "    <tr>\n",
       "      <th>3</th>\n",
       "      <td>0</td>\n",
       "      <td>my whole body feels itchy and like its on fire</td>\n",
       "    </tr>\n",
       "    <tr>\n",
       "      <th>4</th>\n",
       "      <td>0</td>\n",
       "      <td>@nationwideclass no, it's not behaving at all....</td>\n",
       "    </tr>\n",
       "    <tr>\n",
       "      <th>...</th>\n",
       "      <td>...</td>\n",
       "      <td>...</td>\n",
       "    </tr>\n",
       "    <tr>\n",
       "      <th>1599995</th>\n",
       "      <td>4</td>\n",
       "      <td>Just woke up. Having no school is the best fee...</td>\n",
       "    </tr>\n",
       "    <tr>\n",
       "      <th>1599996</th>\n",
       "      <td>4</td>\n",
       "      <td>TheWDB.com - Very cool to hear old Walt interv...</td>\n",
       "    </tr>\n",
       "    <tr>\n",
       "      <th>1599997</th>\n",
       "      <td>4</td>\n",
       "      <td>Are you ready for your MoJo Makeover? Ask me f...</td>\n",
       "    </tr>\n",
       "    <tr>\n",
       "      <th>1599998</th>\n",
       "      <td>4</td>\n",
       "      <td>Happy 38th Birthday to my boo of alll time!!! ...</td>\n",
       "    </tr>\n",
       "    <tr>\n",
       "      <th>1599999</th>\n",
       "      <td>4</td>\n",
       "      <td>happy #charitytuesday @theNSPCC @SparksCharity...</td>\n",
       "    </tr>\n",
       "  </tbody>\n",
       "</table>\n",
       "<p>1600000 rows × 2 columns</p>\n",
       "</div>"
      ],
      "text/plain": [
       "         target                                               text\n",
       "0             0  @switchfoot http://twitpic.com/2y1zl - Awww, t...\n",
       "1             0  is upset that he can't update his Facebook by ...\n",
       "2             0  @Kenichan I dived many times for the ball. Man...\n",
       "3             0    my whole body feels itchy and like its on fire \n",
       "4             0  @nationwideclass no, it's not behaving at all....\n",
       "...         ...                                                ...\n",
       "1599995       4  Just woke up. Having no school is the best fee...\n",
       "1599996       4  TheWDB.com - Very cool to hear old Walt interv...\n",
       "1599997       4  Are you ready for your MoJo Makeover? Ask me f...\n",
       "1599998       4  Happy 38th Birthday to my boo of alll time!!! ...\n",
       "1599999       4  happy #charitytuesday @theNSPCC @SparksCharity...\n",
       "\n",
       "[1600000 rows x 2 columns]"
      ]
     },
     "execution_count": 3,
     "metadata": {},
     "output_type": "execute_result"
    }
   ],
   "source": [
    "import pandas as pd\n",
    "df = pd.read_csv('https://media.githubusercontent.com/media/dhannn/simple-sentiment-analysis/main/data/raw_data.csv?token=AV2NNFOF33USPQX77IFJPXLEHOWTE')\n",
    "df[['target', 'text']]"
   ]
  },
  {
   "attachments": {},
   "cell_type": "markdown",
   "id": "f7c77eaf",
   "metadata": {},
   "source": [
    "The features can be ."
   ]
  },
  {
   "cell_type": "code",
   "execution_count": 4,
   "id": "72d5ed7f",
   "metadata": {},
   "outputs": [],
   "source": [
    "from sklearn.model_selection import train_test_split\n",
    "\n",
    "X_train, X_test, y_train, y_test = train_test_split(df['text'], df['target'], train_size=0.01, test_size=0.01)"
   ]
  },
  {
   "cell_type": "code",
   "execution_count": 7,
   "id": "608e60ad",
   "metadata": {},
   "outputs": [
    {
     "data": {
      "text/plain": [
       "9381     0.569634\n",
       "6015     0.456240\n",
       "12913    0.443205\n",
       "9644     0.426307\n",
       "736      0.393294\n",
       "           ...   \n",
       "5343     0.000000\n",
       "5344     0.000000\n",
       "5345     0.000000\n",
       "5346     0.000000\n",
       "15999    0.000000\n",
       "Name: vote, Length: 16000, dtype: float64"
      ]
     },
     "execution_count": 7,
     "metadata": {},
     "output_type": "execute_result"
    }
   ],
   "source": [
    "from sklearn.feature_extraction.text import TfidfVectorizer\n",
    "\n",
    "vectorizer = TfidfVectorizer()\n",
    "X_vectors = vectorizer.fit_transform(X_train)\n",
    "\n",
    "term_matrix_df = pd.DataFrame(X_vectors.toarray(), columns=vectorizer.get_feature_names_out())\n",
    "term_matrix_df['vote'].sort_values(ascending=False)"
   ]
  },
  {
   "cell_type": "markdown",
   "id": "7950b2d8",
   "metadata": {},
   "source": [
    "\n",
    "The dataset is provided by Alec Go, Richa Bhayani and Lei Huang in their paper \"Twitter Sentiment Classification using Distant Supervision\"."
   ]
  },
  {
   "cell_type": "markdown",
   "id": "ed7ad559",
   "metadata": {},
   "source": [
    "- https://ploomber.io/blog/clean-nbs/\n",
    "- https://towardsdatascience.com/organise-your-jupyter-notebook-with-these-tips-d164d5dcd51f\n",
    "- https://www.analyticsvidhya.com/blog/2020/04/beginners-guide-exploratory-data-analysis-text-data/\n",
    "- https://towardsdatascience.com/modularise-your-notebook-into-scripts-5d5ccaf3f4f3"
   ]
  }
 ],
 "metadata": {
  "kernelspec": {
   "display_name": "Python 3 (ipykernel)",
   "language": "python",
   "name": "python3"
  },
  "language_info": {
   "codemirror_mode": {
    "name": "ipython",
    "version": 3
   },
   "file_extension": ".py",
   "mimetype": "text/x-python",
   "name": "python",
   "nbconvert_exporter": "python",
   "pygments_lexer": "ipython3",
   "version": "3.10.7"
  }
 },
 "nbformat": 4,
 "nbformat_minor": 5
}
