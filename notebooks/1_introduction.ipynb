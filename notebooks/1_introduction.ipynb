{
 "cells": [
  {
   "cell_type": "markdown",
   "id": "26436459",
   "metadata": {
    "tags": []
   },
   "source": [
    "# Sentiment Analysis\n",
    "Sentiment analysis is a machine learning technique that analyzes the tone or emotion of a text—positive, negative, or neutral. It is the process of computationally identifying and categorizing the opinions, attitudes, and feelings towards individuals, events, and topics expressed in a piece of text.\n",
    "\n",
    "Sentiment analysis has a wide range of applications. it is important for programmers and software developers to study effective techniques for this process."
   ]
  },
  {
   "cell_type": "markdown",
   "id": "54b33710",
   "metadata": {},
   "source": [
    "# Objectives"
   ]
  },
  {
   "cell_type": "code",
   "execution_count": null,
   "id": "b13a628c",
   "metadata": {},
   "outputs": [],
   "source": [
    "import sys\n",
    "!{sys.executable} -m pip install scikit-learn"
   ]
  },
  {
   "attachments": {},
   "cell_type": "markdown",
   "id": "6ca6993c",
   "metadata": {},
   "source": [
    "# The Dataset\n",
    "The dataset consists of 16 million tweets with six fields: target (or polarity), id, date, flag, user and text. Among the fields, the target and the text are the most relevant. The target consists of the polarity while the text contains our features.\n",
    "\n",
    "We convert the raw data to a `Dataframe` object with the target and the text fields."
   ]
  },
  {
   "cell_type": "code",
   "execution_count": null,
   "id": "5415cf6a",
   "metadata": {},
   "outputs": [],
   "source": [
    "import pandas as pd\n",
    "df = pd.read_csv('../data/raw_data.csv')\n",
    "df[['target', 'text']]"
   ]
  },
  {
   "attachments": {},
   "cell_type": "markdown",
   "id": "f7c77eaf",
   "metadata": {},
   "source": [
    "The features can be ."
   ]
  },
  {
   "cell_type": "code",
   "execution_count": 20,
   "id": "72d5ed7f",
   "metadata": {},
   "outputs": [],
   "source": [
    "from sklearn.model_selection import train_test_split\n",
    "\n",
    "X_train, X_test, y_train, y_test = train_test_split(df['text'], df['target'])"
   ]
  },
  {
   "cell_type": "code",
   "execution_count": 24,
   "id": "78c4c8d5",
   "metadata": {},
   "outputs": [
    {
     "ename": "MemoryError",
     "evalue": "Unable to allocate 4.94 TiB for an array with shape (1200000, 565897) and data type float64",
     "output_type": "error",
     "traceback": [
      "\u001b[1;31m---------------------------------------------------------------------------\u001b[0m",
      "\u001b[1;31mMemoryError\u001b[0m                               Traceback (most recent call last)",
      "Cell \u001b[1;32mIn[24], line 6\u001b[0m\n\u001b[0;32m      3\u001b[0m vectorizer \u001b[39m=\u001b[39m TfidfVectorizer()\n\u001b[0;32m      4\u001b[0m X_vectors \u001b[39m=\u001b[39m vectorizer\u001b[39m.\u001b[39mfit_transform(X_train)\n\u001b[1;32m----> 6\u001b[0m df \u001b[39m=\u001b[39m pd\u001b[39m.\u001b[39mDataFrame(X_vectors\u001b[39m.\u001b[39;49mtoarray(), columns\u001b[39m=\u001b[39mX_vectors\u001b[39m.\u001b[39mget_feature_names())\n\u001b[0;32m      7\u001b[0m df\u001b[39m.\u001b[39mhead()\n",
      "File \u001b[1;32mc:\\Users\\dannr\\AppData\\Local\\Programs\\Python\\Python310\\lib\\site-packages\\scipy\\sparse\\_compressed.py:1051\u001b[0m, in \u001b[0;36m_cs_matrix.toarray\u001b[1;34m(self, order, out)\u001b[0m\n\u001b[0;32m   1049\u001b[0m \u001b[39mif\u001b[39;00m out \u001b[39mis\u001b[39;00m \u001b[39mNone\u001b[39;00m \u001b[39mand\u001b[39;00m order \u001b[39mis\u001b[39;00m \u001b[39mNone\u001b[39;00m:\n\u001b[0;32m   1050\u001b[0m     order \u001b[39m=\u001b[39m \u001b[39mself\u001b[39m\u001b[39m.\u001b[39m_swap(\u001b[39m'\u001b[39m\u001b[39mcf\u001b[39m\u001b[39m'\u001b[39m)[\u001b[39m0\u001b[39m]\n\u001b[1;32m-> 1051\u001b[0m out \u001b[39m=\u001b[39m \u001b[39mself\u001b[39;49m\u001b[39m.\u001b[39;49m_process_toarray_args(order, out)\n\u001b[0;32m   1052\u001b[0m \u001b[39mif\u001b[39;00m \u001b[39mnot\u001b[39;00m (out\u001b[39m.\u001b[39mflags\u001b[39m.\u001b[39mc_contiguous \u001b[39mor\u001b[39;00m out\u001b[39m.\u001b[39mflags\u001b[39m.\u001b[39mf_contiguous):\n\u001b[0;32m   1053\u001b[0m     \u001b[39mraise\u001b[39;00m \u001b[39mValueError\u001b[39;00m(\u001b[39m'\u001b[39m\u001b[39mOutput array must be C or F contiguous\u001b[39m\u001b[39m'\u001b[39m)\n",
      "File \u001b[1;32mc:\\Users\\dannr\\AppData\\Local\\Programs\\Python\\Python310\\lib\\site-packages\\scipy\\sparse\\_base.py:1298\u001b[0m, in \u001b[0;36mspmatrix._process_toarray_args\u001b[1;34m(self, order, out)\u001b[0m\n\u001b[0;32m   1296\u001b[0m     \u001b[39mreturn\u001b[39;00m out\n\u001b[0;32m   1297\u001b[0m \u001b[39melse\u001b[39;00m:\n\u001b[1;32m-> 1298\u001b[0m     \u001b[39mreturn\u001b[39;00m np\u001b[39m.\u001b[39;49mzeros(\u001b[39mself\u001b[39;49m\u001b[39m.\u001b[39;49mshape, dtype\u001b[39m=\u001b[39;49m\u001b[39mself\u001b[39;49m\u001b[39m.\u001b[39;49mdtype, order\u001b[39m=\u001b[39;49morder)\n",
      "\u001b[1;31mMemoryError\u001b[0m: Unable to allocate 4.94 TiB for an array with shape (1200000, 565897) and data type float64"
     ]
    }
   ],
   "source": [
    "from sklearn.feature_extraction.text import TfidfVectorizer\n",
    "\n",
    "vectorizer = TfidfVectorizer()\n",
    "X_vectors = vectorizer.fit_transform(X_train)\n",
    "\n",
    "df = pd.DataFrame(X_vectors.toarray(), columns=X_vectors.get_feature_names())\n",
    "df.head()"
   ]
  },
  {
   "cell_type": "markdown",
   "id": "7950b2d8",
   "metadata": {},
   "source": [
    "\n",
    "The dataset is provided by Alec Go, Richa Bhayani and Lei Huang in their paper \"Twitter Sentiment Classification using Distant Supervision\"."
   ]
  },
  {
   "cell_type": "markdown",
   "id": "ed7ad559",
   "metadata": {},
   "source": [
    "- https://ploomber.io/blog/clean-nbs/\n",
    "- https://towardsdatascience.com/organise-your-jupyter-notebook-with-these-tips-d164d5dcd51f\n",
    "- https://www.analyticsvidhya.com/blog/2020/04/beginners-guide-exploratory-data-analysis-text-data/\n",
    "- https://towardsdatascience.com/modularise-your-notebook-into-scripts-5d5ccaf3f4f3"
   ]
  }
 ],
 "metadata": {
  "kernelspec": {
   "display_name": "Python 3 (ipykernel)",
   "language": "python",
   "name": "python3"
  },
  "language_info": {
   "codemirror_mode": {
    "name": "ipython",
    "version": 3
   },
   "file_extension": ".py",
   "mimetype": "text/x-python",
   "name": "python",
   "nbconvert_exporter": "python",
   "pygments_lexer": "ipython3",
   "version": "3.10.7"
  }
 },
 "nbformat": 4,
 "nbformat_minor": 5
}
